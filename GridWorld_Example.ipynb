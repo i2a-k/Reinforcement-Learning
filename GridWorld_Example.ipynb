{
  "nbformat": 4,
  "nbformat_minor": 0,
  "metadata": {
    "colab": {
      "name": "GridWorld_Example.ipynb",
      "provenance": [],
      "collapsed_sections": []
    },
    "kernelspec": {
      "name": "python3",
      "display_name": "Python 3"
    }
  },
  "cells": [
    {
      "cell_type": "code",
      "metadata": {
        "id": "lpNDsn1ZFPcQ",
        "colab_type": "code",
        "colab": {}
      },
      "source": [
        "import numpy as np\n",
        "from tabulate import tabulate"
      ],
      "execution_count": 1,
      "outputs": []
    },
    {
      "cell_type": "code",
      "metadata": {
        "id": "khoOai5WRDz-",
        "colab_type": "code",
        "colab": {}
      },
      "source": [
        "def gridWorldExample (gamma = 0.9, moves = 10):\n",
        "  g = gamma\n",
        "  nums = moves\n",
        "\n",
        "  #Initilizing GridWorld\n",
        "  gridRow = 5\n",
        "  gridCol = 5\n",
        "  gridWorld = np.zeros((gridRow, gridCol))\n",
        "\n",
        "  for num in range (nums):\n",
        "    for i in range(gridRow):\n",
        "      for j in range(gridCol):\n",
        "        #Choosing Policy\n",
        "        #UP\n",
        "        if i > 0:\n",
        "          goingUp = gridWorld[i-1][j]\n",
        "        else:\n",
        "          goingUp = 0\n",
        "        #Down\n",
        "        if i < 4:\n",
        "          goingDown = gridWorld[i+1][j]\n",
        "        else:\n",
        "          goingDown = 0\n",
        "        #Right\n",
        "        if j < 4:\n",
        "          goingRight = gridWorld[i][j+1]\n",
        "        else:\n",
        "          goingRight = 0\n",
        "        #Left\n",
        "        if j > 0:\n",
        "          goingLeft = gridWorld[i][j-1]\n",
        "        else:\n",
        "          goingLeft = 0\n",
        "        \n",
        "        stVal = 0\n",
        "        directions = [goingUp, goingDown, goingLeft, goingRight]\n",
        "        #Value of States \n",
        "        if i==0 and j==1:\n",
        "          stVal = 10 + g*gridWorld[4][1] #A Cell in GridWorld\n",
        "        elif i==0 and j==3:\n",
        "          stVal = 5 + g*gridWorld[2][3] #B Cell in GridWorld\n",
        "        else:\n",
        "          for direct in directions: #Other Cells\n",
        "            if direct != 0: \n",
        "              stVal += .25 * (0 + g*direct)\n",
        "            else:\n",
        "              stVal += .25 * (-1 + g*gridWorld[i][j])\n",
        "        \n",
        "        gridWorld[i][j] = stVal\n",
        "\n",
        "  return gridWorld"
      ],
      "execution_count": 2,
      "outputs": []
    },
    {
      "cell_type": "code",
      "metadata": {
        "id": "binRhAAWOhmJ",
        "colab_type": "code",
        "colab": {
          "base_uri": "https://localhost:8080/",
          "height": 218
        },
        "outputId": "752a92de-0132-44ba-8eb6-fae271c74575"
      },
      "source": [
        "gridWorld = np.round(gridWorldExample(),1)\n",
        "print(\"State-value function for the equiprobable random policy:\")\n",
        "gridWorld = tabulate(gridWorld, tablefmt='grid')\n",
        "print(gridWorld)"
      ],
      "execution_count": 3,
      "outputs": [
        {
          "output_type": "stream",
          "text": [
            "State-value function for the equiprobable random policy:\n",
            "+------+------+------+------+------+\n",
            "|  3.3 |  8.8 |  4.4 |  5.3 |  1.5 |\n",
            "+------+------+------+------+------+\n",
            "|  1.5 |  3   |  2.2 |  1.9 |  0.5 |\n",
            "+------+------+------+------+------+\n",
            "|  0   |  0.7 |  0.7 |  0.4 | -0.4 |\n",
            "+------+------+------+------+------+\n",
            "| -1   | -0.4 | -0.3 | -0.6 | -1.2 |\n",
            "+------+------+------+------+------+\n",
            "| -1.9 | -1.3 | -1.2 | -1.4 | -1.9 |\n",
            "+------+------+------+------+------+\n"
          ],
          "name": "stdout"
        }
      ]
    }
  ]
}